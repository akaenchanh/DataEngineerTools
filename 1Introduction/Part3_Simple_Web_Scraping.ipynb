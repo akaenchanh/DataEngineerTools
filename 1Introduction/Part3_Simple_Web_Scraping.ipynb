{
 "cells": [
  {
   "cell_type": "markdown",
   "metadata": {},
   "source": [
    "# Introduction"
   ]
  },
  {
   "cell_type": "markdown",
   "metadata": {},
   "source": [
    "Avant de commencer, parcourer le fichier README.rst"
   ]
  },
  {
   "cell_type": "markdown",
   "metadata": {},
   "source": [
    "# Requête HTTP "
   ]
  },
  {
   "cell_type": "markdown",
   "metadata": {},
   "source": [
    "Un requête HTTP est une requête basé sur le protocole TCP, elle fait partie de la couche application de la couche OSI. Elle permet d'accéder aux données mise à disposition sur une adresse IP (ou url résolue par un DNS) et un port. \n",
    "\n",
    "Les deux ports les plus utilisé dans le web sont le 80 pour les sites en HTTP et le 443 pour les sites en HTTPS. HTTPS est une variable du protocole HTTP basé sur le protocole TLS.\n",
    "\n",
    "Il existe de nombreux types de requêtes selon la convention `REST`: \n",
    "- GET\n",
    "- POST\n",
    "- PUT \n",
    "- DELETE\n",
    "- UPDATE.\n",
    "\n",
    "Dans notre cas nous allons utiliser la plupart du temps des GET et potentiellement des POST. \n",
    "- Le GET permet comme sont nom l'indique de récupérer des informations en fonction de certain paramètres. \n",
    "- Le POST nécéssite un envoie de données pour récupérer des données. Le body du post est, la plupart du temps, envoyé sous la forme d'un objet JSON.\n",
    "\n",
    "Ces requêtes encapsulent un certain nombre de paramètres qui permettent soient d'identifier une provenance et un utilisateur ou de réaliser différentes actions."
   ]
  },
  {
   "cell_type": "code",
   "execution_count": 1,
   "metadata": {},
   "outputs": [],
   "source": [
    "import requests"
   ]
  },
  {
   "cell_type": "code",
   "execution_count": 2,
   "metadata": {},
   "outputs": [
    {
     "data": {
      "text/plain": [
       "200"
      ]
     },
     "execution_count": 2,
     "metadata": {},
     "output_type": "execute_result"
    }
   ],
   "source": [
    "url = \"http://www.esiee.fr/\"\n",
    "response = requests.get(url)\n",
    "response.status_code"
   ]
  },
  {
   "cell_type": "markdown",
   "metadata": {},
   "source": [
    "Il existe deux méthodes pour récupérer le contenu de la page :\n",
    "\n",
    "- `response.text` qui permet de retourner le texte sous la forme d'une chaine de charactères.\n",
    "- `response.content` qui permet de récupérer le contenu de la page sous la forme de bytes"
   ]
  },
  {
   "cell_type": "code",
   "execution_count": 3,
   "metadata": {},
   "outputs": [
    {
     "data": {
      "text/plain": [
       "bytes"
      ]
     },
     "execution_count": 3,
     "metadata": {},
     "output_type": "execute_result"
    }
   ],
   "source": [
    "type(response.content)"
   ]
  },
  {
   "cell_type": "code",
   "execution_count": 4,
   "metadata": {},
   "outputs": [
    {
     "data": {
      "text/plain": [
       "str"
      ]
     },
     "execution_count": 4,
     "metadata": {},
     "output_type": "execute_result"
    }
   ],
   "source": [
    "type(response.text)"
   ]
  },
  {
   "cell_type": "markdown",
   "metadata": {},
   "source": [
    "Pour récupérer les 1000 premiers charactères de la page :"
   ]
  },
  {
   "cell_type": "code",
   "execution_count": 5,
   "metadata": {},
   "outputs": [
    {
     "data": {
      "text/plain": [
       "'<!DOCTYPE html>\\n<!--[if lt IE 7]>      <html class=\"no-js lt-ie9 lt-ie8 lt-ie7\"> <![endif]-->\\n<!--[if IE 7]>         <html class=\"no-js lt-ie9 lt-ie8\"> <![endif]-->\\n<!--[if IE 8]>         <html class=\"no-js lt-ie9\"> <![endif]-->\\n<!--[if IE 9]>         <html class=\"no-js ie9\"> <![endif]-->\\n<!--[if gt IE 9]><!--> <html class=\"no-js\"> <!--<![endif]-->\\n<head profile=\"http://www.w3.org/1999/xhtml/vocab\">\\n\\t<!-- Google Tag Manager -->\\n\\t<script>\\n\\t\\t(function(w,d,s,l,i){\\n\\t\\t\\tw[l]=w[l]||[];w[l].push({\\'gtm.start\\':new Date().getTime(),event:\\'gtm.js\\'});\\n\\t\\t\\tvar f=d.getElementsByTagName(s)[0],\\tj=d.createElement(s),dl=l!=\\'dataLayer\\'?\\'&l=\\'+l:\\'\\';\\n\\t\\t\\tj.async=true;\\n\\t\\t\\tj.src=\\'https://www.googletagmanager.com/gtm.js?id=\\'+i+dl;f.parentNode.insertBefore(j,f);\\n\\t\\t\\t}\\n\\t\\t)\\n\\t\\t(window,document,\\'script\\',\\'dataLayer\\',\\'GTM-MQF5LJB\\');\\n\\t</script>\\n\\t<!-- End Google Tag Manager -->\\n  <meta name=\"google-site-verification\" content=\"JnG7DTdhQuWTeSHlWC63CeWpb3WValiOorksYjoYOWI\" />\\n  <meta http-equiv=\"Content-Type\" content=\"text/ht'"
      ]
     },
     "execution_count": 5,
     "metadata": {},
     "output_type": "execute_result"
    }
   ],
   "source": [
    "response.text[0:1000]"
   ]
  },
  {
   "cell_type": "markdown",
   "metadata": {},
   "source": [
    "Pour récupérer les headers HTTP de la réponse :"
   ]
  },
  {
   "cell_type": "code",
   "execution_count": 6,
   "metadata": {},
   "outputs": [
    {
     "data": {
      "text/plain": [
       "{'Date': 'Tue, 23 Nov 2021 12:12:36 GMT', 'Server': 'Apache/2.4.25 (Debian)', 'Expires': 'Sun, 19 Nov 1978 05:00:00 GMT', 'Cache-Control': 'no-cache, must-revalidate', 'X-Content-Type-Options': 'nosniff', 'Content-Language': 'fr', 'X-Frame-Options': 'SAMEORIGIN', 'Permissions-Policy': 'interest-cohort=()', 'X-Generator': 'Drupal 7 (http://drupal.org)', 'Vary': 'Accept-Encoding', 'Content-Encoding': 'gzip', 'Content-Length': '17281', 'Keep-Alive': 'timeout=5, max=150', 'Connection': 'Keep-Alive', 'Content-Type': 'text/html; charset=utf-8'}"
      ]
     },
     "execution_count": 6,
     "metadata": {},
     "output_type": "execute_result"
    }
   ],
   "source": [
    "response.headers"
   ]
  },
  {
   "cell_type": "markdown",
   "metadata": {},
   "source": [
    "On peut modifier les paramêtres de la requête et/ou ses headers. On peut par exemple ajouter un UserAgent et un timeout de 10 secondes:"
   ]
  },
  {
   "cell_type": "code",
   "execution_count": 7,
   "metadata": {},
   "outputs": [
    {
     "data": {
      "text/plain": [
       "b'<!DOCTYPE html>\\n<!--[if lt IE 7]>      <html class=\"no-js lt-ie9 lt-ie8 lt-ie7\"> <![endif]-->\\n<!--[if IE 7]>         <html class=\"no-js lt-ie9 lt-ie8\"> <![endif]-->\\n<!--[if IE 8]>         <html class=\"no-js lt-ie9\"> <![endif]-->\\n<!--[if IE 9]>         <html class=\"no-js ie9\"> <![endif]-->\\n<!--[if gt IE 9]><!--> <html class=\"no-js\"> <!--<![endif]-->\\n<head profile=\"http://www.w3.org/1999/xhtml/vocab\">\\n\\t<!-- Google Tag Manager -->\\n\\t<script>\\n\\t\\t(function(w,d,s,l,i){\\n\\t\\t\\tw[l]=w[l]||[];w[l].push({\\'gtm.start\\':new Date().getTime(),event:\\'gtm.js\\'});\\n\\t\\t\\tvar f=d.getElementsByTagName(s)[0],\\tj=d.createElement(s),dl=l!=\\'dataLayer\\'?\\'&l=\\'+l:\\'\\';\\n\\t\\t\\tj.async=true;\\n\\t\\t\\tj.src=\\'https://www.googletagmanager.com/gtm.js?id=\\'+i+dl;f.parentNode.insertBefore(j,f);\\n\\t\\t\\t}\\n\\t\\t)\\n\\t\\t(window,document,\\'script\\',\\'dataLayer\\',\\'GTM-MQF5LJB\\');\\n\\t</script>\\n\\t<!-- End Google Tag Manager -->\\n  <meta name=\"google-site-verification\" content=\"JnG7DTdhQuWTeSHlWC63CeWpb3WValiOorksYjoYOWI\" />\\n  <meta http-equiv=\"Content-Type\" content=\"text/ht'"
      ]
     },
     "execution_count": 7,
     "metadata": {},
     "output_type": "execute_result"
    }
   ],
   "source": [
    "headers = {'User-Agent': 'Mozilla/5.0 (Macintosh; Intel Mac OS X 10_10_1) AppleWebKit/537.36 (KHTML, like Gecko) Chrome/39.0.2171.95 Safari/537.36'}\n",
    "response = requests.get(url, headers=headers, timeout = 10)\n",
    "response.content[0:1000]"
   ]
  },
  {
   "cell_type": "markdown",
   "metadata": {},
   "source": [
    "## Exercice"
   ]
  },
  {
   "cell_type": "markdown",
   "metadata": {},
   "source": [
    "## Exercice 1\n",
    "\n",
    "- Créer une classe Python permettant de faire des requêtes HTTP.\n",
    "- Cette classe doit utiliser toujours le même UserAgent.\n",
    "- Le TimeOut sera spécifié à chaque appelle avec une valeur par défaut.\n",
    "- Un mécanisme de retry sera mis en place de façon recursive.\n",
    "\n",
    "## Exercice 2\n",
    "\n",
    "- Faire une fonction permettant de supprimer tous les espaces supperflus d'une string\n",
    "- Faire une fonction qui prend une string html et renvois une string intelligible (enlever les caractères spéciaux,\n",
    "- Récupérer le domaine en fonction d'un url"
   ]
  },
  {
   "cell_type": "code",
   "execution_count": 32,
   "metadata": {},
   "outputs": [],
   "source": [
    "#exercice1\n",
    "class classRequests:\n",
    "    def requete(url):\n",
    "        headers = {'User-Agent': 'Mozilla/5.0 (Macintosh; Intel Mac OS X 10_10_1) AppleWebKit/537.36 (KHTML, like Gecko) Chrome/39.0.2171.95 Safari/537.36'}\n",
    "        response = requests.get(url, headers=headers, timeout = 10)\n",
    "        return response.content[0:1000], response.status_code\n",
    "        \n",
    "    "
   ]
  },
  {
   "cell_type": "code",
   "execution_count": 36,
   "metadata": {},
   "outputs": [
    {
     "name": "stdout",
     "output_type": "stream",
     "text": [
      "(b'\\n\\n\\n\\n\\n\\n<!DOCTYPE html>\\n<html lang=\"en\" data-color-mode=\"auto\" data-light-theme=\"light\" data-dark-theme=\"dark\">\\n  <head>\\n    <meta charset=\"utf-8\">\\n  <link rel=\"dns-prefetch\" href=\"https://github.githubassets.com\">\\n  <link rel=\"dns-prefetch\" href=\"https://avatars.githubusercontent.com\">\\n  <link rel=\"dns-prefetch\" href=\"https://github-cloud.s3.amazonaws.com\">\\n  <link rel=\"dns-prefetch\" href=\"https://user-images.githubusercontent.com/\">\\n  <link rel=\"preconnect\" href=\"https://github.githubassets.com\" crossorigin>\\n  <link rel=\"preconnect\" href=\"https://avatars.githubusercontent.com\">\\n\\n\\n\\n  <link crossorigin=\"anonymous\" media=\"all\" integrity=\"sha512-1G4rYJktwRTQKn7fVfJUxH8RRZFUJlGo77xMZfBfIhZPx4BHVrzPE1VgnafttXI8G3y/PywH3uXyhNkSLp3+oA==\" rel=\"stylesheet\" href=\"https://github.githubassets.com/assets/light-d46e2b60992dc114d02a7edf55f254c4.css\" /><link crossorigin=\"anonymous\" media=\"all\" integrity=\"sha512-hI5b2oqTE9njfjYrfuzXqA4bSGSNrE5OMc9IiFhZy+RDGg9Qn4Si1A97o0MlinlwFt3xAifvoLX0s7jHmHSvVw==\" re', 200)\n"
     ]
    }
   ],
   "source": [
    "    url = \"https://github.com/akaenchanh/DataEngineerTools\"\n",
    "    res = classRequests.requete(url)\n",
    "    print(res)"
   ]
  },
  {
   "cell_type": "code",
   "execution_count": 72,
   "metadata": {},
   "outputs": [],
   "source": [
    "#exercice2\n",
    "from urllib.parse import urlparse\n",
    "\n",
    "def supprSpaceString(str):\n",
    "    return str.replace(\" \", \"\")\n",
    "\n",
    "def strSupprHTML(strHTML):\n",
    "    #string = \"Hey! What's up bro?\"\n",
    "    return ''.join(filter(str.isalnum, strHTML)) \n",
    "\n",
    "def getDomain(strHTML):\n",
    "    return urlparse(url).netloc"
   ]
  },
  {
   "cell_type": "code",
   "execution_count": 71,
   "metadata": {},
   "outputs": [
    {
     "data": {
      "text/plain": [
       "'github.com'"
      ]
     },
     "execution_count": 71,
     "metadata": {},
     "output_type": "execute_result"
    }
   ],
   "source": [
    "chaine = \"akjl sjkklz ijkz     ejk\"\n",
    "url = \"https://github.com/akaenchanh/DataEngineerTools\"\n",
    "\n",
    "# supprSpaceString(chaine)\n",
    "# strSupprHTML(url)\n",
    "getDomain(url)"
   ]
  },
  {
   "cell_type": "markdown",
   "metadata": {},
   "source": [
    "# Exploitation du HTML  "
   ]
  },
  {
   "cell_type": "markdown",
   "metadata": {},
   "source": [
    "Ici, il faut récupérer le code HTML d'un site web à partir d'une requête. Lorsque vous avez récupéré le texte d'un site il faut le parser. Pour cela, on utilise BeautifulSoup qui permet de transformer la structure HTML en objet Python. Cela permet de récupérer efficacement les données qui nous intéresse.\n",
    "\n",
    "Pour les webmasters, le blocage le plus souvent mis en place et un blocage sur le User-Agent. Le User-Agent est un paramètre intégré dans la requête HTTP réalisé par le Navigateur pour envoyer au front des informations basiques :\n",
    "\n",
    "- la version du Navigateur,\n",
    "- la version de l'OS\n",
    "- Le type de gestionnaire graphique (Gecko)\n",
    "- le type de device utilisé"
   ]
  },
  {
   "cell_type": "markdown",
   "metadata": {},
   "source": [
    "Exemple de User Agent :  \n",
    "\n",
    "`Mozilla/5.0 (Windows NT 6.1; Win64; x64; rv:47.0) Gecko/20100101 Firefox/47.0`"
   ]
  },
  {
   "cell_type": "markdown",
   "metadata": {},
   "source": [
    "Commençons à utiliser `BeautifulSoup`, pour l'installer : "
   ]
  },
  {
   "cell_type": "code",
   "execution_count": 73,
   "metadata": {},
   "outputs": [
    {
     "name": "stdout",
     "output_type": "stream",
     "text": [
      "Requirement already satisfied: bs4 in /root/.local/share/virtualenvs/code-AFz48Hjb/lib/python3.8/site-packages (0.0.1)\n",
      "Requirement already satisfied: beautifulsoup4 in /root/.local/share/virtualenvs/code-AFz48Hjb/lib/python3.8/site-packages (from bs4) (4.9.3)\n",
      "Requirement already satisfied: soupsieve>1.2 in /root/.local/share/virtualenvs/code-AFz48Hjb/lib/python3.8/site-packages (from beautifulsoup4->bs4) (2.0.1)\n",
      "Requirement already satisfied: lxml in /root/.local/share/virtualenvs/code-AFz48Hjb/lib/python3.8/site-packages (4.6.4)\n"
     ]
    }
   ],
   "source": [
    "!pip install bs4\n",
    "!pip install  lxml"
   ]
  },
  {
   "cell_type": "code",
   "execution_count": 74,
   "metadata": {},
   "outputs": [],
   "source": [
    "import requests\n",
    "from bs4 import BeautifulSoup"
   ]
  },
  {
   "cell_type": "markdown",
   "metadata": {},
   "source": [
    "Pour transformer une requête (requests) en objet BeautifulSoup :"
   ]
  },
  {
   "cell_type": "code",
   "execution_count": 75,
   "metadata": {},
   "outputs": [],
   "source": [
    "response = requests.get(url)\n",
    "soup = BeautifulSoup(response.text)"
   ]
  },
  {
   "cell_type": "markdown",
   "metadata": {},
   "source": [
    "Il se peut qu'un message d'erreur arrive à ce point là si vous n'avez pas la librarie `lxml` installée, pour se faire vous avez juste à lancer la commande suivante : "
   ]
  },
  {
   "cell_type": "code",
   "execution_count": 76,
   "metadata": {},
   "outputs": [
    {
     "name": "stdout",
     "output_type": "stream",
     "text": [
      "Requirement already satisfied: lxml in /root/.local/share/virtualenvs/code-AFz48Hjb/lib/python3.8/site-packages (4.6.4)\r\n"
     ]
    }
   ],
   "source": [
    "!pip install lxml"
   ]
  },
  {
   "cell_type": "markdown",
   "metadata": {},
   "source": [
    "Pour trouver tous les liens d'une page on récupère la balise `a` qui permet de gérer les liens en HTML  :"
   ]
  },
  {
   "cell_type": "code",
   "execution_count": 80,
   "metadata": {},
   "outputs": [
    {
     "data": {
      "text/plain": [
       "[<a class=\"px-2 py-4 color-bg-accent-emphasis color-fg-on-emphasis show-on-focus js-skip-to-content\" href=\"#start-of-content\">Skip to content</a>,\n",
       " <a aria-label=\"Homepage\" class=\"mr-4 color-fg-inherit\" data-ga-click=\"(Logged out) Header, go to homepage, icon:logo-wordmark\" href=\"https://github.com/\">\n",
       " <svg aria-hidden=\"true\" class=\"octicon octicon-mark-github\" data-view-component=\"true\" height=\"32\" version=\"1.1\" viewbox=\"0 0 16 16\" width=\"32\">\n",
       " <path d=\"M8 0C3.58 0 0 3.58 0 8c0 3.54 2.29 6.53 5.47 7.59.4.07.55-.17.55-.38 0-.19-.01-.82-.01-1.49-2.01.37-2.53-.49-2.69-.94-.09-.23-.48-.94-.82-1.13-.28-.15-.68-.52-.01-.53.63-.01 1.08.58 1.23.82.72 1.21 1.87.87 2.33.66.07-.52.28-.87.51-1.07-1.78-.2-3.64-.89-3.64-3.95 0-.87.31-1.59.82-2.15-.08-.2-.36-1.02.08-2.12 0 0 .67-.21 2.2.82.64-.18 1.32-.27 2-.27.68 0 1.36.09 2 .27 1.53-1.04 2.2-.82 2.2-.82.44 1.1.16 1.92.08 2.12.51.56.82 1.27.82 2.15 0 3.07-1.87 3.75-3.65 3.95.29.25.54.73.54 1.48 0 1.07-.01 1.93-.01 2.2 0 .21.15.46.55.38A8.013 8.013 0 0016 8c0-4.42-3.58-8-8-8z\" fill-rule=\"evenodd\"></path>\n",
       " </svg>\n",
       " </a>,\n",
       " <a class=\"d-inline-block d-lg-none f5 no-underline border color-border-default rounded-2 px-2 py-1 mr-3 mr-sm-5 color-fg-inherit\" data-hydro-click='{\"event_type\":\"authentication.click\",\"payload\":{\"location_in_page\":\"site header\",\"repository_id\":null,\"auth_type\":\"SIGN_UP\",\"originating_url\":\"https://github.com/akaenchanh/DataEngineerTools\",\"user_id\":null}}' data-hydro-click-hmac=\"4d5d00c0cd3f1d51d33366f237397da7375aee35cf0703375ad6d1f6d162d743\" href=\"/signup?ref_cta=Sign+up&amp;ref_loc=header+logged+out&amp;ref_page=%2F%3Cuser-name%3E%2F%3Crepo-name%3E&amp;source=header-repo\">\n",
       "               Sign up\n",
       "             </a>,\n",
       " <a class=\"lh-condensed-ultra d-block no-underline Bump-link--hover position-relative Link--primary text-bold py-2\" data-analytics-event='{\"category\":\"Header dropdown (logged out), Why GitHub?\",\"action\":\"click to go to Features\",\"label\":\"ref_page:/akaenchanh/DataEngineerTools;ref_cta:Features;\"}' data-hydro-click='{\"event_type\":\"analytics.event\",\"payload\":{\"category\":\"Header dropdown (logged out), Why GitHub?\",\"action\":\"click to go to Features\",\"label\":\"ref_page:/akaenchanh/DataEngineerTools;ref_cta:Features;\",\"originating_url\":\"https://github.com/akaenchanh/DataEngineerTools\",\"user_id\":null}}' data-hydro-click-hmac=\"89f60c9ac9c6df503a683ed40554d1b186f893733de3659c62f3c25d69afcc1f\" href=\"/features\">\n",
       "       Features <span class=\"Bump-link-symbol position-absolute right-0 text-normal color-fg-muted pr-3\">→</span>\n",
       " </a>,\n",
       " <a class=\"lh-condensed-ultra d-block no-underline Bump-link--hover position-relative Link--secondary py-2\" data-analytics-event='{\"category\":\"Header dropdown (logged out), Why GitHub?\",\"action\":\"click to go to Mobile\",\"label\":\"ref_page:/akaenchanh/DataEngineerTools;ref_cta:Mobile;\"}' data-hydro-click='{\"event_type\":\"analytics.event\",\"payload\":{\"category\":\"Header dropdown (logged out), Why GitHub?\",\"action\":\"click to go to Mobile\",\"label\":\"ref_page:/akaenchanh/DataEngineerTools;ref_cta:Mobile;\",\"originating_url\":\"https://github.com/akaenchanh/DataEngineerTools\",\"user_id\":null}}' data-hydro-click-hmac=\"809f52abbd51deb8fd81a28eb01a6ea40d47ca46df8c8412a2da69f36f1396a1\" href=\"/mobile\">\n",
       "       Mobile <span class=\"Bump-link-symbol position-absolute right-0 text-normal color-fg-muted pr-3\">→</span>\n",
       " </a>,\n",
       " <a class=\"lh-condensed-ultra d-block no-underline Bump-link--hover position-relative Link--secondary py-2\" data-analytics-event='{\"category\":\"Header dropdown (logged out), Why GitHub?\",\"action\":\"click to go to Actions\",\"label\":\"ref_page:/akaenchanh/DataEngineerTools;ref_cta:Actions;\"}' data-hydro-click='{\"event_type\":\"analytics.event\",\"payload\":{\"category\":\"Header dropdown (logged out), Why GitHub?\",\"action\":\"click to go to Actions\",\"label\":\"ref_page:/akaenchanh/DataEngineerTools;ref_cta:Actions;\",\"originating_url\":\"https://github.com/akaenchanh/DataEngineerTools\",\"user_id\":null}}' data-hydro-click-hmac=\"6ff157e59ab187421596f34149dbf635291ec09e4ce40818d29a13150320a5e7\" href=\"/features/actions\">\n",
       "       Actions <span class=\"Bump-link-symbol position-absolute right-0 text-normal color-fg-muted pr-3\">→</span>\n",
       " </a>,\n",
       " <a class=\"lh-condensed-ultra d-block no-underline Bump-link--hover position-relative Link--secondary py-2\" data-analytics-event='{\"category\":\"Header dropdown (logged out), Why GitHub?\",\"action\":\"click to go to Codespaces\",\"label\":\"ref_page:/akaenchanh/DataEngineerTools;ref_cta:Codespaces;\"}' data-hydro-click='{\"event_type\":\"analytics.event\",\"payload\":{\"category\":\"Header dropdown (logged out), Why GitHub?\",\"action\":\"click to go to Codespaces\",\"label\":\"ref_page:/akaenchanh/DataEngineerTools;ref_cta:Codespaces;\",\"originating_url\":\"https://github.com/akaenchanh/DataEngineerTools\",\"user_id\":null}}' data-hydro-click-hmac=\"4b48917abb7a193b5e03bdc248a02da94e6f5fcabd428cc9ff93ad630a9da54c\" href=\"/features/codespaces\">\n",
       "       Codespaces <span class=\"Bump-link-symbol position-absolute right-0 text-normal color-fg-muted pr-3\">→</span>\n",
       " </a>,\n",
       " <a class=\"lh-condensed-ultra d-block no-underline Bump-link--hover position-relative Link--secondary py-2\" data-analytics-event='{\"category\":\"Header dropdown (logged out), Why GitHub?\",\"action\":\"click to go to Packages\",\"label\":\"ref_page:/akaenchanh/DataEngineerTools;ref_cta:Packages;\"}' data-hydro-click='{\"event_type\":\"analytics.event\",\"payload\":{\"category\":\"Header dropdown (logged out), Why GitHub?\",\"action\":\"click to go to Packages\",\"label\":\"ref_page:/akaenchanh/DataEngineerTools;ref_cta:Packages;\",\"originating_url\":\"https://github.com/akaenchanh/DataEngineerTools\",\"user_id\":null}}' data-hydro-click-hmac=\"693fdf006dfc602e7f5192927ebbad37081c5f35cc67b6cd9f331a7e0ad10c18\" href=\"/features/packages\">\n",
       "       Packages <span class=\"Bump-link-symbol position-absolute right-0 text-normal color-fg-muted pr-3\">→</span>\n",
       " </a>,\n",
       " <a class=\"lh-condensed-ultra d-block no-underline Bump-link--hover position-relative Link--secondary py-2\" data-analytics-event='{\"category\":\"Header dropdown (logged out), Why GitHub?\",\"action\":\"click to go to Security\",\"label\":\"ref_page:/akaenchanh/DataEngineerTools;ref_cta:Security;\"}' data-hydro-click='{\"event_type\":\"analytics.event\",\"payload\":{\"category\":\"Header dropdown (logged out), Why GitHub?\",\"action\":\"click to go to Security\",\"label\":\"ref_page:/akaenchanh/DataEngineerTools;ref_cta:Security;\",\"originating_url\":\"https://github.com/akaenchanh/DataEngineerTools\",\"user_id\":null}}' data-hydro-click-hmac=\"810e0cb3169c3eb34b6c478d60d8033c909aa8de47f6584eb49e5ddc39ed5c54\" href=\"/features/security\">\n",
       "       Security <span class=\"Bump-link-symbol position-absolute right-0 text-normal color-fg-muted pr-3\">→</span>\n",
       " </a>,\n",
       " <a class=\"lh-condensed-ultra d-block no-underline Bump-link--hover position-relative Link--secondary py-2\" data-analytics-event='{\"category\":\"Header dropdown (logged out), Why GitHub?\",\"action\":\"click to go to Code review\",\"label\":\"ref_page:/akaenchanh/DataEngineerTools;ref_cta:Code review;\"}' data-hydro-click='{\"event_type\":\"analytics.event\",\"payload\":{\"category\":\"Header dropdown (logged out), Why GitHub?\",\"action\":\"click to go to Code review\",\"label\":\"ref_page:/akaenchanh/DataEngineerTools;ref_cta:Code review;\",\"originating_url\":\"https://github.com/akaenchanh/DataEngineerTools\",\"user_id\":null}}' data-hydro-click-hmac=\"d5034779fa22d72d1c7ba4d0e37ccb14470493be37f58478604ddfd7d7342c92\" href=\"/features/code-review\">\n",
       "       Code review <span class=\"Bump-link-symbol position-absolute right-0 text-normal color-fg-muted pr-3\">→</span>\n",
       " </a>]"
      ]
     },
     "execution_count": 80,
     "metadata": {},
     "output_type": "execute_result"
    }
   ],
   "source": [
    "soup.find_all(\"a\")[0:10]"
   ]
  },
  {
   "cell_type": "markdown",
   "metadata": {},
   "source": [
    "On peut préciser la classe HTML voulue  pour l'ensemble des `a`:\n",
    "\n",
    "```python\n",
    "soup.find_all(class_=\"<CLASS_NAME>\")[0:10]\n",
    "```\n",
    "\n",
    "Ici par exemple: "
   ]
  },
  {
   "cell_type": "code",
   "execution_count": 81,
   "metadata": {},
   "outputs": [
    {
     "data": {
      "text/plain": [
       "[]"
      ]
     },
     "execution_count": 81,
     "metadata": {},
     "output_type": "execute_result"
    }
   ],
   "source": [
    "soup.find_all(class_=\"slide\")[0:5]"
   ]
  },
  {
   "cell_type": "markdown",
   "metadata": {},
   "source": [
    "Pour récupérer le text sans les balises HTML :"
   ]
  },
  {
   "cell_type": "code",
   "execution_count": 82,
   "metadata": {},
   "outputs": [
    {
     "data": {
      "text/plain": [
       "\"\\n\\n\\n\\n\\n\\n\\n\\n\\n\\n\\n\\n\\n\\n\\n\\n\\n\\n\\n\\n\\n\\n\\n\\n\\n\\n\\n\\n\\n\\n\\n\\n\\n\\n\\n\\n\\n\\n\\n\\n\\n\\n\\n\\n\\n\\n\\n\\n\\n\\n\\n\\n\\n\\n\\n\\n\\n\\n\\n\\n\\n\\n\\n\\n\\n\\n\\n\\n\\n\\n\\n\\n\\n\\n\\n\\n\\n\\n\\n\\n\\n\\nGitHub - akaenchanh/DataEngineerTools: Support de cours : Data Engineering sur la récupération de données WEB et l'intégration dans un flux de stockage basé sur MongoDB.\\n\\n\\n\\n\\n\\n\\n\\n\\n\\n\\n\\n\\n\\n\\n\\n\\n\\n\\n\\n\\n\\n\\n\\n\\n\\n\\n\\n\\n\\n\\n\\n\\n\\n\\n\\n\\n\\n\\n\\n\\n\\n\\n\\n\\nSkip to content\\n\\n\\n\\n\\n\\n\\n\\n\\n\\n\\n\\n\\n\\n\\n\\n              Sign\\xa0up\\n            \\n\\n\\n\\n\\n \\n\\n\\n\\n\\n\\n\\n\\n \\n\\n\\n\\n\\n\\n        Why GitHub?\\n        \\n\\n\\n\\n\\n\\n      Features →\\n \\n\\n\\n      Mobile →\\n \\n\\n\\n      Actions →\\n \\n\\n\\n      Codespaces →\\n \\n\\n\\n      Packages →\\n \\n\\n\\n      Security →\\n \\n\\n\\n      Code review →\\n \\n\\n\\n      Issues →\\n \\n\\n\\n      Integrations →\\n \\n\\n\\n      GitHub Sponsors →\\n \\n\\n\\n      Customer stories →\\n \\n\\n\\n\\n\\n\\nTeam\\n\\n\\nEnterprise\\n\\n\\n\\n\\n        Explore\\n        \\n\\n\\n\\n\\n\\n      Explore GitHub →\\n \\nLearn and contribute\\n\\n\\n      Topics →\\n \\n\\n\\n      Collections →\\n \\n\\n\\n      Trending →\\n \\n\\n\\n      Learning Lab →\\n \\n\\n\\n      Open source guides →\\n \\nConnect with others\\n\\n\\n      The ReadME Project →\\n \\n\\n\\n      Events →\\n \\n\\n\\n      Community forum →\\n \\n\\n\\n      GitHub \""
      ]
     },
     "execution_count": 82,
     "metadata": {},
     "output_type": "execute_result"
    }
   ],
   "source": [
    "soup.text[0:1000]"
   ]
  },
  {
   "cell_type": "markdown",
   "metadata": {},
   "source": [
    "## Exercice\n",
    "### Exercice 3\n",
    "\n",
    "Améliorer la classe développé précédemment.\n",
    "\n",
    "- Ajouter une méthode pour récupérer l'objet soup d'un url\n",
    "- Récupérer une liste de User Agent et effectuer une rotation aléatoire sur celui à utiliser\n",
    "- Utiliser cette classe pour parser une page HTML et récupérer : le titre, tous les H1 (si ils existent), les liens vers les images, les liens sortants vers d'autres sites, et le texte principal.\n",
    "\n",
    "Parsing d'un sitemaps pour récupérer une listes de liens avec les informations disponibles. -> Stocker dans un dictionnaire et dans un fichier JSON local."
   ]
  },
  {
   "cell_type": "code",
   "execution_count": 87,
   "metadata": {},
   "outputs": [
    {
     "name": "stdout",
     "output_type": "stream",
     "text": [
      "[<title>Supprimer les caractères spéciaux de la chaîne en Python | Delft Stack</title>]\n",
      "[<img alt=\"logo\" class=\"ezlazyload\" data-ezsrc=\"https://www.delftstack.com/ezoimgfmt/d33wubrfki0l68.cloudfront.net/7748c5aa61aa13fd4c346e3cbfebe49f2dd4d580/2738b/assets/img/logo.png\" ezimgfmt=\"rs rscb5 src ng ngcb5\" src=\"data:image/svg+xml,%3Csvg xmlns=%22http://www.w3.org/2000/svg%22 width=%22479%22 height=%2292%22%3E%3C/svg%3E\"/>, <img alt=\"Ezoic\" loading=\"lazy\" src=\"https://go.ezoic.net/utilcave_com/img/ezoic.png\" style=\"height:12px!important;padding:2px!important;border:0!important;cursor:pointer!important;width:58px!important;margin:0!important;box-sizing:content-box!important\"/>, <img alt=\"Ezoic\" loading=\"lazy\" src=\"https://go.ezoic.net/utilcave_com/img/ezoic.png\" style=\"height:12px!important;padding:2px!important;border:0!important;cursor:pointer!important;width:58px!important;margin:0!important;box-sizing:content-box!important\"/>]\n",
      "[<h1 style=\"margin-bottom:10px\">Supprimer les caractères spéciaux de la chaîne en Python</h1>]\n",
      "[<a class=\"navbar-brand\" href=\"/fr\"><img alt=\"logo\" class=\"ezlazyload\" data-ezsrc=\"https://www.delftstack.com/ezoimgfmt/d33wubrfki0l68.cloudfront.net/7748c5aa61aa13fd4c346e3cbfebe49f2dd4d580/2738b/assets/img/logo.png\" ezimgfmt=\"rs rscb5 src ng ngcb5\" src=\"data:image/svg+xml,%3Csvg xmlns=%22http://www.w3.org/2000/svg%22 width=%22479%22 height=%2292%22%3E%3C/svg%3E\"/></a>, <a href=\"/fr/tutorial/\">Tutoriel</a>, <a href=\"/fr/howto/\">How-To</a>, <a href=\"https://www.delftstack.com/howto/python/remove-special-characters-from-string-python/\"><span class=\"flag-icon flag-icon-gb\"></span></a>, <a href=\"/fr/howto/python/\"><span>Mode d'emploi Python</span></a>, <a href=\"/fr/howto/python/import-a-file-in-python/\">Importer un fichier en Python</a>, <a href=\"/fr/howto/python/zip-lists-in-python/\">Listes Zip en Python</a>, <a href=\"/fr/howto/python/python-count-occurrence-of-character/\">Comment compter la présence d'un personnage dans une chaîne de caractèresen Python</a>, <a href=\"/fr/howto/python/python-display-image/\">Afficher une image en Python</a>, <a href=\"/fr/howto/python/add-key-to-dictionary-in-python/\">Ajouter une clé à un dictionnaire en Python</a>, <a href=\"https://www.ezoic.com/what-is-ezoic/\" rel=\"noopener noreferrer nofollow\" style=\"cursor:pointer\" target=\"_blank\"><img alt=\"Ezoic\" loading=\"lazy\" src=\"https://go.ezoic.net/utilcave_com/img/ezoic.png\" style=\"height:12px!important;padding:2px!important;border:0!important;cursor:pointer!important;width:58px!important;margin:0!important;box-sizing:content-box!important\"/></a>, <a href=\"/fr\"><i class=\"fa fa-lg fa-home\"></i></a>, <a href=\"/fr/howto/\">HowTo</a>, <a href=\"/fr/howto/python/\">Mode d'emploi Python</a>, <a href=\"/fr/howto/python/remove-special-characters-from-string-python/\">Supprimer les caractères spéciaux de la chaîne en Python</a>, <a href=\"/fr/tags/python/\">Python</a>, <a href=\"/fr/tags/python-string/\">Python String</a>, <a class=\"sharer button\" href=\"http://www.facebook.com/sharer.php?src=bm&amp;u=https%3a%2f%2fwww.delftstack.com%2ffr%2fhowto%2fpython%2fremove-special-characters-from-string-python%2f&amp;t=Supprimer%20les%20caract%c3%a8res%20sp%c3%a9ciaux%20de%20la%20cha%c3%aene%20en%20Python\" id=\"share-fb\" onclick=\"window.open(this.href,'facebook-share-dialog','width=550, height=350, menubar=no, toolbar=no, scrollbars=yes');return false;\"><i class=\"fa fa-2x fa-facebook-square\"></i></a>, <a class=\"sharer button\" href=\"https://twitter.com/intent/tweet/?text=Mode%20d%27emploi%20Python - Supprimer%20les%20caract%c3%a8res%20sp%c3%a9ciaux%20de%20la%20cha%c3%aene%20en%20Python&amp;url=https%3a%2f%2fwww.delftstack.com%2ffr%2fhowto%2fpython%2fremove-special-characters-from-string-python%2f&amp;hashtags=web,development\" id=\"share-tw\" onclick=\"window.open(this.href,'twitter-share-dialog','width=550, height=350, menubar=no, toolbar=no, scrollbars=yes');return false;\"><i class=\"fa fa-2x fa-twitter-square\"></i></a>, <a class=\"sharer button\" href=\"https://www.linkedin.com/shareArticle?mini=true&amp;url=https%3a%2f%2fwww.delftstack.com%2ffr%2fhowto%2fpython%2fremove-special-characters-from-string-python%2f&amp;title=Mode%20d%27emploi%20Python - Supprimer%20les%20caract%c3%a8res%20sp%c3%a9ciaux%20de%20la%20cha%c3%aene%20en%20Python&amp;source=https%3a%2f%2fwww.delftstack.com%2ffr%2fhowto%2fpython%2fremove-special-characters-from-string-python%2f&amp;summary=Short%20summary\" id=\"share-li\" onclick=\"window.open(this.href,'linkedin-share-dialog','width=550, height=350, menubar=no, toolbar=no, scrollbars=yes');return false;\"><i class=\"fa fa-2x fa-linkedin-square\"></i></a>, <a href=\"#supprimer-les-caract%25C3%25A8res-sp%25C3%25A9ciaux-de-la-cha%25C3%25AEne-en-python-en-utilisant-la-m%25C3%25A9thode-str.isalnum\">Supprimer les caractères spéciaux de la chaîne en Python en utilisant la méthode <code>str.isalnum()</code></a>, <a href=\"#supprimer-les-caract%25C3%25A8res-sp%25C3%25A9ciaux-de-la-cha%25C3%25AEne-en-python-en-utilisant-la-m%25C3%25A9thode-filterstr.isalnum-string\">Supprimer les caractères spéciaux de la chaîne en Python en utilisant la méthode <code>filter(str.isalnum, string)</code></a>, <a href=\"#supprimer-les-caract%25C3%25A8res-sp%25C3%25A9ciaux-de-la-cha%25C3%25AEne-en-python-en-utilisant-lexpression-r%25C3%25A9guli%25C3%25A8re\">Supprimer les caractères spéciaux de la chaîne en Python en utilisant l’expression régulière</a>, <a href=\"/fr/tags/python-string/\">Article connexe - Python String</a>, <a href=\"/fr/howto/python/python-remove-quotes-from-string/\" title=\"Supprimer les citations de la chaîne en Python\">Supprimer les citations de la chaîne en Python</a>, <a href=\"/fr/howto/python/python-palindrome/\" title=\"Vérifier si une chaîne est un palindrome en Python\">Vérifier si une chaîne est un palindrome en Python</a>, <a href=\"/fr/howto/python/remove-certain-characters-from-string-python/\" title=\"Supprimer certains caractères de la chaîne en Python\">Supprimer certains caractères de la chaîne en Python</a>, <a href=\"/fr/howto/python/plot-dictionary-python/\" title=\"Tracer un dictionnaire de Python par ordre de valeurs clés\">Tracer un dictionnaire de Python par ordre de valeurs clés</a>, <a href=\"https://www.ezoic.com/what-is-ezoic/\" rel=\"noopener noreferrer nofollow\" style=\"cursor:pointer\" target=\"_blank\"><img alt=\"Ezoic\" loading=\"lazy\" src=\"https://go.ezoic.net/utilcave_com/img/ezoic.png\" style=\"height:12px!important;padding:2px!important;border:0!important;cursor:pointer!important;width:58px!important;margin:0!important;box-sizing:content-box!important\"/></a>, <a href=\"#\" id=\"scroll-up\"><i class=\"fa fa-angle-up\"></i></a>, <a href=\"/fr/about-us/\">À propos de nous</a>, <a href=\"/fr/privacy-policy/\">Politique de confidentialité</a>, <a href=\"/fr/sitemap/\">Sitemap</a>, <a href=\"/fr/contact/\">Contactez</a>]\n",
      "[<p class=\"meta-data\" style=\"color:#999;font-size:16px\">Créé: February-21, 2021<section><a class=\"sharer button\" href=\"http://www.facebook.com/sharer.php?src=bm&amp;u=https%3a%2f%2fwww.delftstack.com%2ffr%2fhowto%2fpython%2fremove-special-characters-from-string-python%2f&amp;t=Supprimer%20les%20caract%c3%a8res%20sp%c3%a9ciaux%20de%20la%20cha%c3%aene%20en%20Python\" id=\"share-fb\" onclick=\"window.open(this.href,'facebook-share-dialog','width=550, height=350, menubar=no, toolbar=no, scrollbars=yes');return false;\"><i class=\"fa fa-2x fa-facebook-square\"></i></a><a class=\"sharer button\" href=\"https://twitter.com/intent/tweet/?text=Mode%20d%27emploi%20Python - Supprimer%20les%20caract%c3%a8res%20sp%c3%a9ciaux%20de%20la%20cha%c3%aene%20en%20Python&amp;url=https%3a%2f%2fwww.delftstack.com%2ffr%2fhowto%2fpython%2fremove-special-characters-from-string-python%2f&amp;hashtags=web,development\" id=\"share-tw\" onclick=\"window.open(this.href,'twitter-share-dialog','width=550, height=350, menubar=no, toolbar=no, scrollbars=yes');return false;\"><i class=\"fa fa-2x fa-twitter-square\"></i></a><a class=\"sharer button\" href=\"https://www.linkedin.com/shareArticle?mini=true&amp;url=https%3a%2f%2fwww.delftstack.com%2ffr%2fhowto%2fpython%2fremove-special-characters-from-string-python%2f&amp;title=Mode%20d%27emploi%20Python - Supprimer%20les%20caract%c3%a8res%20sp%c3%a9ciaux%20de%20la%20cha%c3%aene%20en%20Python&amp;source=https%3a%2f%2fwww.delftstack.com%2ffr%2fhowto%2fpython%2fremove-special-characters-from-string-python%2f&amp;summary=Short%20summary\" id=\"share-li\" onclick=\"window.open(this.href,'linkedin-share-dialog','width=550, height=350, menubar=no, toolbar=no, scrollbars=yes');return false;\"><i class=\"fa fa-2x fa-linkedin-square\"></i></a></section></p>, <p>Dans ce tutoriel, nous allons discuter des différentes façons de supprimer tous les caractères spéciaux de la chaîne en Python. Nous pouvons supprimer les caractères spéciaux de la chaîne de caractères en utilisant des fonctions ou des expressions régulières.</p>, <p>La méthode <code>str.isalnum()</code> renvoie <code>True</code> si les caractères sont alphanumériques, c’est-à-dire sans caractères spéciaux dans la chaîne. Elle retourne <code>False</code> si la chaîne contient des caractères spéciaux.<span class=\"ezoic-adpicker-ad\" id=\"ezoic-pub-ad-placeholder-113\"></span><span class=\"ezoic-ad medrectangle-3 medrectangle-3113 adtester-container adtester-container-113\" data-ez-name=\"delftstack_com-medrectangle-3\"><span class=\"ezoic-ad\" ezah=\"50\" ezaw=\"320\" id=\"div-gpt-ad-delftstack_com-medrectangle-3-0\" style=\"position:relative;z-index:0;display:inline-block;padding:0;min-height:50px;min-width:320px\"><script data-cfasync=\"false\" data-ezscrex=\"false\" style=\"display:none\">if(typeof __ez_fad_position!='undefined'){__ez_fad_position('div-gpt-ad-delftstack_com-medrectangle-3-0')};</script></span></span></p>, <p>Afin de supprimer les caractères spéciaux de la chaîne, nous devrons vérifier si un caractère est alphanumérique et le supprimer dans le cas contraire. L’exemple de mise en œuvre de cette méthode est présenté ci-dessous :</p>, <p>Production :</p>, <p>Pour supprimer les caractères spéciaux de la chaîne, nous pouvons également utiliser la méthode <code>filter(str.isalnum, string)</code>, similaire à la méthode expliquée ci-dessus. Mais dans cette approche, au lieu d’utiliser la boucle <code>for</code> et l’instruction <code>if</code> sur la méthode <code>str.isalnum()</code>, nous utiliserons la fonction <code>filter()</code>.</p>, <p>Exemple de code :</p>, <p>Pour supprimer le caractère spécial de la chaîne, nous pourrions écrire une expression régulière qui supprimera automatiquement les caractères spéciaux de la chaîne. L’expression régulière pour cela sera <code>[^a-zA-Z0-9]</code>, où <code>^</code> représente n’importe quel caractère sauf les caractères entre parenthèses, et <code>a-zA-Z0-9</code> représente que la chaîne ne peut avoir que des caractères alphabétiques et numériques en minuscules et majuscules.</p>, <p>Exemple de code :</p>, <p>Production :</p>, <p>Copyright © 2020. All right reserved</p>]\n"
     ]
    }
   ],
   "source": [
    "import requests\n",
    "from bs4 import BeautifulSoup\n",
    "import random\n",
    "\n",
    "user_agent_list = ['Mozilla/5.0 (iPhone; CPU iPhone OS 12_0 like Mac OS X) AppleWebKit/605.1.15 (KHTML, like Gecko) Version/12.0 Mobile/15E148 Safari/604.1',\n",
    "                  'Mozilla/5.0 (iPhone; CPU iPhone OS 12_0 like Mac OS X) AppleWebKit/605.1.15 (KHTML, like Gecko) CriOS/69.0.3497.105 Mobile/15E148 Safari/605.1',\n",
    "                  'Mozilla/5.0 (iPhone; CPU iPhone OS 12_0 like Mac OS X) AppleWebKit/605.1.15 (KHTML, like Gecko) FxiOS/13.2b11866 Mobile/16A366 Safari/605.1.15',\n",
    "                  'Mozilla/5.0 (iPhone; CPU iPhone OS 11_0 like Mac OS X) AppleWebKit/604.1.34 (KHTML, like Gecko) Version/11.0 Mobile/15A5341f Safari/604.1',\n",
    "                  'Mozilla/5.0 (Apple-iPhone7C2/1202.466; U; CPU like Mac OS X; en) AppleWebKit/420+ (KHTML, like Gecko) Version/3.0 Mobile/1A543 Safari/419.3']\n",
    "\n",
    "class classRequests:\n",
    "    def requete(url):\n",
    "        headers = {'User-Agent': 'Mozilla/5.0 (Macintosh; Intel Mac OS X 10_10_1) AppleWebKit/537.36 (KHTML, like Gecko) Chrome/39.0.2171.95 Safari/537.36'}\n",
    "        response = requests.get(url, headers=headers, timeout = 10)\n",
    "        return response.content[0:1000], response.status_code\n",
    "    \n",
    "    def recupSoupUrl(url,objrecup):\n",
    "        user_agent = random.choice(user_agent_list)\n",
    "        headers = {'User-Agent':user_agent}\n",
    "        response = requests.get(url,headers=headers)\n",
    "        soup = BeautifulSoup(response.text)\n",
    "        return soup.find_all(objrecup)\n",
    "\n",
    "url = 'https://www.delftstack.com/fr/howto/python/remove-special-characters-from-string-python/'\n",
    "balise_titre = \"title\"\n",
    "balise_image = \"img\"\n",
    "balise_h1 = \"h1\"\n",
    "balise_sites = \"a\"\n",
    "balise_txt_principal = \"p\"\n",
    "\n",
    "titre = classRequests.recupSoupUrl(url,balise_titre)\n",
    "print(titre)\n",
    "image = classRequests.recupSoupUrl(url,balise_image)\n",
    "print(image)\n",
    "h1 = classRequests.recupSoupUrl(url,balise_h1)\n",
    "print(h1)\n",
    "autres_sites = classRequests.recupSoupUrl(url,balise_sites)\n",
    "print(autres_sites)\n",
    "txt_principal = classRequests.recupSoupUrl(url,balise_txt_principal)\n",
    "print(txt_principal)"
   ]
  },
  {
   "cell_type": "markdown",
   "metadata": {},
   "source": [
    "# Exploitation des appels d'API\n"
   ]
  },
  {
   "cell_type": "markdown",
   "metadata": {},
   "source": [
    "\n",
    "Losque le front du site récupère des données sur une API géré par le back, un appel d'API est réalisé. Cet appel est recensé dans les appels réseaux. Il est alors possible de re-jouer cet appel pour récupérer à nouveau les données. Il est très facile de récupérer ces appels dans l'onglet Network de la console développeur de Chrome ou FireFox. La console vous permet de copier le code CURL pour effectuée et vous pouvez ensuite la transformer en code Python depuis le site https://curl.trillworks.com/.\n",
    "\n",
    "Souvent les APIs sont bloquées avec certain paramètres. L'API verifie que dans les headers de la requêtes HTTP ces paramètres sont présents : * un token généré à la volée avec des protocole OAuth2 (ou moins développés). * un referer provenant du site web (la source de la requête), très facile à falsifier.\n",
    "\n"
   ]
  },
  {
   "cell_type": "markdown",
   "metadata": {},
   "source": [
    "## Exercice \n",
    "### Exercice 4\n",
    "\n",
    "- Utiliser les informations développées plus haut pour récupérer les premiers résultats d'une recherche d'une requête\n",
    "sur Qwant. \n",
    "\n",
    "Tips : \n",
    "\n",
    "- Aller sur https://www.qwant.com/\n",
    "- Ouvrir les outils de développements de Chrome ou Firefox\n",
    "- Onglet Network\n",
    "- Fouiller dans les requêtes"
   ]
  },
  {
   "cell_type": "code",
   "execution_count": 89,
   "metadata": {},
   "outputs": [],
   "source": [
    "#exercice 4\n",
    "\n",
    "import requests\n",
    "\n",
    "headers = {\n",
    "    'authority': 'www.qwant.com',\n",
    "    'user-agent': 'Mozilla/5.0 (Windows NT 10.0; Win64; x64) AppleWebKit/537.36 (KHTML, like Gecko) Chrome/96.0.4664.45 Safari/537.36',\n",
    "    'content-type': 'text/plain;charset=UTF-8',\n",
    "    'accept': '*/*',\n",
    "    'sec-gpc': '1',\n",
    "    'origin': 'https://www.qwant.com',\n",
    "    'sec-fetch-site': 'same-origin',\n",
    "    'sec-fetch-mode': 'no-cors',\n",
    "    'sec-fetch-dest': 'empty',\n",
    "    'referer': 'https://www.qwant.com/',\n",
    "    'accept-language': 'fr-FR,fr;q=0.9,en-US;q=0.8,en;q=0.7',\n",
    "}\n",
    "\n",
    "data = '{\"data\":{\"locale\":\"fr_FR\",\"device\":\"desktop\",\"tab\":\"all\",\"query\":null,\"event\":\"focus\",\"page\":\"home_page\",\"zone\":\"search_bar_input\",\"component\":\"searchbar\",\"context\":\"home_page\",\"label\":\"unknown\",\"chrome_dse_attribution\":null},\"uri\":\"/\",\"client\":null,\"tgp\":90,\"chrome_dse_attribution\":false}'\n",
    "\n",
    "response = requests.post('https://www.qwant.com/action/ui', headers=headers, data=data)"
   ]
  },
  {
   "cell_type": "markdown",
   "metadata": {},
   "source": [
    "# Exercice Final  "
   ]
  },
  {
   "cell_type": "markdown",
   "metadata": {},
   "source": [
    "Exercice Final\n",
    "Utilisez tout ce que vous avez appris pour récupérer des articles de News avec une catégorie. Il est souvent intéressant de partir des flux RSS pour commencer :\n",
    "\n",
    "Les données doivent comprendre :\n",
    "- Le texte important propre\n",
    "- L'url\n",
    "- Le domaine\n",
    "- la catégorie\n",
    "- Le titre de l'article\n",
    "- Le titre de la page\n",
    "- (Facultatif) : les images\n",
    "\n",
    "Tips : \n",
    "\n",
    "- Taper le nom de votre média favoris + RSS (par exemple : https://www.lemonde.fr/rss/)\n",
    "- Aller dans le DOM de la page \n",
    "- Trouver les catégories et les liens vers les articles"
   ]
  },
  {
   "cell_type": "code",
   "execution_count": null,
   "metadata": {},
   "outputs": [],
   "source": []
  }
 ],
 "metadata": {
  "kernelspec": {
   "display_name": "Python 3 (ipykernel)",
   "language": "python",
   "name": "python3"
  },
  "language_info": {
   "codemirror_mode": {
    "name": "ipython",
    "version": 3
   },
   "file_extension": ".py",
   "mimetype": "text/x-python",
   "name": "python",
   "nbconvert_exporter": "python",
   "pygments_lexer": "ipython3",
   "version": "3.8.12"
  }
 },
 "nbformat": 4,
 "nbformat_minor": 2
}
